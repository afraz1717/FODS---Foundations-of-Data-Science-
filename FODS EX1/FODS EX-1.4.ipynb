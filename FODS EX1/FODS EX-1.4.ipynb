{
 "cells": [
  {
   "cell_type": "code",
   "execution_count": 25,
   "id": "ea7bb837-363c-46f9-9e8f-69ea205ae455",
   "metadata": {},
   "outputs": [],
   "source": [
    "import pandas as pd"
   ]
  },
  {
   "cell_type": "code",
   "execution_count": 27,
   "id": "d00809da-bf67-4677-bb14-44ae0bf030ba",
   "metadata": {},
   "outputs": [],
   "source": [
    "temperature = pd.Series([23, 21, 20, 25, 27, 30, 28, 22, 24, 26])"
   ]
  },
  {
   "cell_type": "code",
   "execution_count": 29,
   "id": "2fc9527b-5784-4487-8981-17a1cf06310c",
   "metadata": {},
   "outputs": [],
   "source": [
    "mean_temp = temperature.mean()\n",
    "median_temp = temperature.median()\n",
    "variance_temp = temperature.var()"
   ]
  },
  {
   "cell_type": "code",
   "execution_count": 33,
   "id": "81059834-e2d8-4e90-a30e-07d18a37b821",
   "metadata": {},
   "outputs": [
    {
     "data": {
      "text/plain": [
       "np.float64(24.6)"
      ]
     },
     "execution_count": 33,
     "metadata": {},
     "output_type": "execute_result"
    }
   ],
   "source": [
    "mean_temp"
   ]
  },
  {
   "cell_type": "code",
   "execution_count": 35,
   "id": "9fc673af-a146-4ced-91a4-140cb6fb0767",
   "metadata": {},
   "outputs": [
    {
     "data": {
      "text/plain": [
       "np.float64(24.5)"
      ]
     },
     "execution_count": 35,
     "metadata": {},
     "output_type": "execute_result"
    }
   ],
   "source": [
    "median_temp"
   ]
  },
  {
   "cell_type": "code",
   "execution_count": 37,
   "id": "08f1bdfe-2c40-4e90-be72-fd979db83629",
   "metadata": {},
   "outputs": [
    {
     "data": {
      "text/plain": [
       "np.float64(10.266666666666667)"
      ]
     },
     "execution_count": 37,
     "metadata": {},
     "output_type": "execute_result"
    }
   ],
   "source": [
    "variance_temp"
   ]
  },
  {
   "cell_type": "code",
   "execution_count": 39,
   "id": "fe179391-ddd1-4cab-9b28-f68c84a72eaf",
   "metadata": {},
   "outputs": [],
   "source": [
    "above_below_mean = temperature.apply(lambda x: 'Above' if x > mean_temp else 'Below')"
   ]
  },
  {
   "cell_type": "code",
   "execution_count": 43,
   "id": "cf9989ed-c689-49b7-9df2-7bcc2274185a",
   "metadata": {},
   "outputs": [
    {
     "data": {
      "text/plain": [
       "0    Below\n",
       "1    Below\n",
       "2    Below\n",
       "3    Above\n",
       "4    Above\n",
       "5    Above\n",
       "6    Above\n",
       "7    Below\n",
       "8    Below\n",
       "9    Above\n",
       "dtype: object"
      ]
     },
     "execution_count": 43,
     "metadata": {},
     "output_type": "execute_result"
    }
   ],
   "source": [
    "above_below_mean "
   ]
  },
  {
   "cell_type": "code",
   "execution_count": 45,
   "id": "6c0f93ba-f397-4fea-ba04-8efa85a9840e",
   "metadata": {},
   "outputs": [],
   "source": [
    "temperature_kelvin = temperature + 273.15"
   ]
  },
  {
   "cell_type": "code",
   "execution_count": 47,
   "id": "b01bcc35-e0d8-4f53-bdd7-764b3f05ab69",
   "metadata": {},
   "outputs": [
    {
     "data": {
      "text/plain": [
       "0    296.15\n",
       "1    294.15\n",
       "2    293.15\n",
       "3    298.15\n",
       "4    300.15\n",
       "5    303.15\n",
       "6    301.15\n",
       "7    295.15\n",
       "8    297.15\n",
       "9    299.15\n",
       "dtype: float64"
      ]
     },
     "execution_count": 47,
     "metadata": {},
     "output_type": "execute_result"
    }
   ],
   "source": [
    "temperature_kelvin "
   ]
  },
  {
   "cell_type": "code",
   "execution_count": 49,
   "id": "df6cade3-f2ea-40ec-8451-9320849cadd6",
   "metadata": {},
   "outputs": [],
   "source": [
    "rolling_mean = temperature.rolling(window=3).mean()"
   ]
  },
  {
   "cell_type": "code",
   "execution_count": 51,
   "id": "715f223b-ec57-4f95-8156-db7442660a23",
   "metadata": {},
   "outputs": [
    {
     "data": {
      "text/plain": [
       "0          NaN\n",
       "1          NaN\n",
       "2    21.333333\n",
       "3    22.000000\n",
       "4    24.000000\n",
       "5    27.333333\n",
       "6    28.333333\n",
       "7    26.666667\n",
       "8    24.666667\n",
       "9    24.000000\n",
       "dtype: float64"
      ]
     },
     "execution_count": 51,
     "metadata": {},
     "output_type": "execute_result"
    }
   ],
   "source": [
    "rolling_mean"
   ]
  },
  {
   "cell_type": "code",
   "execution_count": 53,
   "id": "93027b12-528c-4e65-b9f3-a6199cf290b1",
   "metadata": {},
   "outputs": [],
   "source": [
    "mean_plus_std = mean_temp + temperature.std()\n",
    "mean_minus_std = mean_temp - temperature.std()\n",
    "filtered_temperatures = temperature[(temperature < mean_minus_std) | (temperature > mean_plus_std)]"
   ]
  },
  {
   "cell_type": "code",
   "execution_count": 55,
   "id": "d28fb472-677e-4408-81b3-e6a443c7d94f",
   "metadata": {},
   "outputs": [
    {
     "data": {
      "text/plain": [
       "np.float64(27.804163957519446)"
      ]
     },
     "execution_count": 55,
     "metadata": {},
     "output_type": "execute_result"
    }
   ],
   "source": [
    "mean_plus_std "
   ]
  },
  {
   "cell_type": "code",
   "execution_count": 59,
   "id": "0795926b-7d36-485e-bc53-49eabe3656aa",
   "metadata": {},
   "outputs": [
    {
     "data": {
      "text/plain": [
       "np.float64(21.395836042480557)"
      ]
     },
     "execution_count": 59,
     "metadata": {},
     "output_type": "execute_result"
    }
   ],
   "source": [
    "mean_minus_std"
   ]
  },
  {
   "cell_type": "code",
   "execution_count": 61,
   "id": "b9123de9-5277-4240-ac67-f85720be7b2a",
   "metadata": {},
   "outputs": [
    {
     "data": {
      "text/plain": [
       "1    21\n",
       "2    20\n",
       "5    30\n",
       "6    28\n",
       "dtype: int64"
      ]
     },
     "execution_count": 61,
     "metadata": {},
     "output_type": "execute_result"
    }
   ],
   "source": [
    "filtered_temperatures"
   ]
  },
  {
   "cell_type": "code",
   "execution_count": null,
   "id": "d68a45cf-f035-4d06-bb84-8da9bc879880",
   "metadata": {},
   "outputs": [],
   "source": []
  }
 ],
 "metadata": {
  "kernelspec": {
   "display_name": "Python 3 (ipykernel)",
   "language": "python",
   "name": "python3"
  },
  "language_info": {
   "codemirror_mode": {
    "name": "ipython",
    "version": 3
   },
   "file_extension": ".py",
   "mimetype": "text/x-python",
   "name": "python",
   "nbconvert_exporter": "python",
   "pygments_lexer": "ipython3",
   "version": "3.12.4"
  }
 },
 "nbformat": 4,
 "nbformat_minor": 5
}
