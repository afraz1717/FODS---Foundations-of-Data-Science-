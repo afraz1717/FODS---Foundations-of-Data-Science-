{
 "cells": [
  {
   "cell_type": "code",
   "execution_count": 2,
   "id": "12ac8633-df6b-4bc4-90e7-05e1fb2388b0",
   "metadata": {},
   "outputs": [],
   "source": [
    "import pandas as pd"
   ]
  },
  {
   "cell_type": "code",
   "execution_count": 4,
   "id": "433686bc-6bb3-465e-91ca-2e61851d618b",
   "metadata": {},
   "outputs": [],
   "source": [
    "data = {'Month': ['Jan', 'Feb', 'Mar', 'Apr', 'May'],'Product_A': [150, 200, 250, 300, 350],'Product_B': [300, 250, 200, 150, 100]}\n"
   ]
  },
  {
   "cell_type": "code",
   "execution_count": 8,
   "id": "3d1734bb-8053-480c-920b-68c1f2fb4055",
   "metadata": {},
   "outputs": [],
   "source": [
    "sales_data = pd.DataFrame(data)"
   ]
  },
  {
   "cell_type": "code",
   "execution_count": 10,
   "id": "d71432ff-cfaf-4ec4-9f5a-3ebfd3d75bab",
   "metadata": {},
   "outputs": [
    {
     "data": {
      "text/html": [
       "<div>\n",
       "<style scoped>\n",
       "    .dataframe tbody tr th:only-of-type {\n",
       "        vertical-align: middle;\n",
       "    }\n",
       "\n",
       "    .dataframe tbody tr th {\n",
       "        vertical-align: top;\n",
       "    }\n",
       "\n",
       "    .dataframe thead th {\n",
       "        text-align: right;\n",
       "    }\n",
       "</style>\n",
       "<table border=\"1\" class=\"dataframe\">\n",
       "  <thead>\n",
       "    <tr style=\"text-align: right;\">\n",
       "      <th></th>\n",
       "      <th>Month</th>\n",
       "      <th>Product_A</th>\n",
       "      <th>Product_B</th>\n",
       "    </tr>\n",
       "  </thead>\n",
       "  <tbody>\n",
       "    <tr>\n",
       "      <th>0</th>\n",
       "      <td>Jan</td>\n",
       "      <td>150</td>\n",
       "      <td>300</td>\n",
       "    </tr>\n",
       "    <tr>\n",
       "      <th>1</th>\n",
       "      <td>Feb</td>\n",
       "      <td>200</td>\n",
       "      <td>250</td>\n",
       "    </tr>\n",
       "    <tr>\n",
       "      <th>2</th>\n",
       "      <td>Mar</td>\n",
       "      <td>250</td>\n",
       "      <td>200</td>\n",
       "    </tr>\n",
       "    <tr>\n",
       "      <th>3</th>\n",
       "      <td>Apr</td>\n",
       "      <td>300</td>\n",
       "      <td>150</td>\n",
       "    </tr>\n",
       "    <tr>\n",
       "      <th>4</th>\n",
       "      <td>May</td>\n",
       "      <td>350</td>\n",
       "      <td>100</td>\n",
       "    </tr>\n",
       "  </tbody>\n",
       "</table>\n",
       "</div>"
      ],
      "text/plain": [
       "  Month  Product_A  Product_B\n",
       "0   Jan        150        300\n",
       "1   Feb        200        250\n",
       "2   Mar        250        200\n",
       "3   Apr        300        150\n",
       "4   May        350        100"
      ]
     },
     "execution_count": 10,
     "metadata": {},
     "output_type": "execute_result"
    }
   ],
   "source": [
    "sales_data"
   ]
  },
  {
   "cell_type": "code",
   "execution_count": 12,
   "id": "c898b0d1-a988-4cd6-9983-6f3a13465cd6",
   "metadata": {},
   "outputs": [],
   "source": [
    "total_sales = sales_data[['Product_A', 'Product_B']].sum()"
   ]
  },
  {
   "cell_type": "code",
   "execution_count": 14,
   "id": "71799fb8-488c-463d-bce6-2a6d40a84d45",
   "metadata": {},
   "outputs": [
    {
     "data": {
      "text/plain": [
       "Product_A    1250\n",
       "Product_B    1000\n",
       "dtype: int64"
      ]
     },
     "execution_count": 14,
     "metadata": {},
     "output_type": "execute_result"
    }
   ],
   "source": [
    "total_sales\n"
   ]
  },
  {
   "cell_type": "code",
   "execution_count": 16,
   "id": "a09e783c-6c80-4b50-aec3-99c9606dcd22",
   "metadata": {},
   "outputs": [],
   "source": [
    "month_highest_sales_A = sales_data['Month'][sales_data['Product_A'].idxmax()]"
   ]
  },
  {
   "cell_type": "code",
   "execution_count": 20,
   "id": "4eeb7467-0b9c-4c4c-8144-d0ffdc5ad3ac",
   "metadata": {},
   "outputs": [
    {
     "data": {
      "text/plain": [
       "'May'"
      ]
     },
     "execution_count": 20,
     "metadata": {},
     "output_type": "execute_result"
    }
   ],
   "source": [
    "month_highest_sales_A"
   ]
  },
  {
   "cell_type": "code",
   "execution_count": 22,
   "id": "c29ea2a7-10ee-4ebe-a552-c2554f3eb025",
   "metadata": {},
   "outputs": [],
   "source": [
    "sales_data['Total_Sales'] = sales_data['Product_A'] + sales_data['Product_B']"
   ]
  },
  {
   "cell_type": "code",
   "execution_count": 24,
   "id": "c879b658-96ec-49a8-b4bc-d6e101e84e86",
   "metadata": {},
   "outputs": [
    {
     "data": {
      "text/html": [
       "<div>\n",
       "<style scoped>\n",
       "    .dataframe tbody tr th:only-of-type {\n",
       "        vertical-align: middle;\n",
       "    }\n",
       "\n",
       "    .dataframe tbody tr th {\n",
       "        vertical-align: top;\n",
       "    }\n",
       "\n",
       "    .dataframe thead th {\n",
       "        text-align: right;\n",
       "    }\n",
       "</style>\n",
       "<table border=\"1\" class=\"dataframe\">\n",
       "  <thead>\n",
       "    <tr style=\"text-align: right;\">\n",
       "      <th></th>\n",
       "      <th>Month</th>\n",
       "      <th>Product_A</th>\n",
       "      <th>Product_B</th>\n",
       "      <th>Total_Sales</th>\n",
       "    </tr>\n",
       "  </thead>\n",
       "  <tbody>\n",
       "    <tr>\n",
       "      <th>0</th>\n",
       "      <td>Jan</td>\n",
       "      <td>150</td>\n",
       "      <td>300</td>\n",
       "      <td>450</td>\n",
       "    </tr>\n",
       "    <tr>\n",
       "      <th>1</th>\n",
       "      <td>Feb</td>\n",
       "      <td>200</td>\n",
       "      <td>250</td>\n",
       "      <td>450</td>\n",
       "    </tr>\n",
       "    <tr>\n",
       "      <th>2</th>\n",
       "      <td>Mar</td>\n",
       "      <td>250</td>\n",
       "      <td>200</td>\n",
       "      <td>450</td>\n",
       "    </tr>\n",
       "    <tr>\n",
       "      <th>3</th>\n",
       "      <td>Apr</td>\n",
       "      <td>300</td>\n",
       "      <td>150</td>\n",
       "      <td>450</td>\n",
       "    </tr>\n",
       "    <tr>\n",
       "      <th>4</th>\n",
       "      <td>May</td>\n",
       "      <td>350</td>\n",
       "      <td>100</td>\n",
       "      <td>450</td>\n",
       "    </tr>\n",
       "  </tbody>\n",
       "</table>\n",
       "</div>"
      ],
      "text/plain": [
       "  Month  Product_A  Product_B  Total_Sales\n",
       "0   Jan        150        300          450\n",
       "1   Feb        200        250          450\n",
       "2   Mar        250        200          450\n",
       "3   Apr        300        150          450\n",
       "4   May        350        100          450"
      ]
     },
     "execution_count": 24,
     "metadata": {},
     "output_type": "execute_result"
    }
   ],
   "source": [
    "sales_data"
   ]
  },
  {
   "cell_type": "code",
   "execution_count": 26,
   "id": "1773ea41-6b1c-4ff7-83eb-ffd5d4312497",
   "metadata": {},
   "outputs": [],
   "source": [
    "sales_data['Product_A_Normalized'] = sales_data['Product_A'] / sales_data['Product_A'].max()"
   ]
  },
  {
   "cell_type": "code",
   "execution_count": 28,
   "id": "3336703f-c513-4ea3-912b-ee829d65ad40",
   "metadata": {},
   "outputs": [
    {
     "data": {
      "text/html": [
       "<div>\n",
       "<style scoped>\n",
       "    .dataframe tbody tr th:only-of-type {\n",
       "        vertical-align: middle;\n",
       "    }\n",
       "\n",
       "    .dataframe tbody tr th {\n",
       "        vertical-align: top;\n",
       "    }\n",
       "\n",
       "    .dataframe thead th {\n",
       "        text-align: right;\n",
       "    }\n",
       "</style>\n",
       "<table border=\"1\" class=\"dataframe\">\n",
       "  <thead>\n",
       "    <tr style=\"text-align: right;\">\n",
       "      <th></th>\n",
       "      <th>Month</th>\n",
       "      <th>Product_A</th>\n",
       "      <th>Product_B</th>\n",
       "      <th>Total_Sales</th>\n",
       "      <th>Product_A_Normalized</th>\n",
       "    </tr>\n",
       "  </thead>\n",
       "  <tbody>\n",
       "    <tr>\n",
       "      <th>0</th>\n",
       "      <td>Jan</td>\n",
       "      <td>150</td>\n",
       "      <td>300</td>\n",
       "      <td>450</td>\n",
       "      <td>0.428571</td>\n",
       "    </tr>\n",
       "    <tr>\n",
       "      <th>1</th>\n",
       "      <td>Feb</td>\n",
       "      <td>200</td>\n",
       "      <td>250</td>\n",
       "      <td>450</td>\n",
       "      <td>0.571429</td>\n",
       "    </tr>\n",
       "    <tr>\n",
       "      <th>2</th>\n",
       "      <td>Mar</td>\n",
       "      <td>250</td>\n",
       "      <td>200</td>\n",
       "      <td>450</td>\n",
       "      <td>0.714286</td>\n",
       "    </tr>\n",
       "    <tr>\n",
       "      <th>3</th>\n",
       "      <td>Apr</td>\n",
       "      <td>300</td>\n",
       "      <td>150</td>\n",
       "      <td>450</td>\n",
       "      <td>0.857143</td>\n",
       "    </tr>\n",
       "    <tr>\n",
       "      <th>4</th>\n",
       "      <td>May</td>\n",
       "      <td>350</td>\n",
       "      <td>100</td>\n",
       "      <td>450</td>\n",
       "      <td>1.000000</td>\n",
       "    </tr>\n",
       "  </tbody>\n",
       "</table>\n",
       "</div>"
      ],
      "text/plain": [
       "  Month  Product_A  Product_B  Total_Sales  Product_A_Normalized\n",
       "0   Jan        150        300          450              0.428571\n",
       "1   Feb        200        250          450              0.571429\n",
       "2   Mar        250        200          450              0.714286\n",
       "3   Apr        300        150          450              0.857143\n",
       "4   May        350        100          450              1.000000"
      ]
     },
     "execution_count": 28,
     "metadata": {},
     "output_type": "execute_result"
    }
   ],
   "source": [
    "sales_data "
   ]
  },
  {
   "cell_type": "code",
   "execution_count": 30,
   "id": "4158635d-8fbf-4a64-8b3b-a702a7407822",
   "metadata": {},
   "outputs": [],
   "source": [
    "filtered_sales_data = sales_data[sales_data['Total_Sales'] > 400]"
   ]
  },
  {
   "cell_type": "code",
   "execution_count": 32,
   "id": "106d1c26-3c11-4632-b5f1-b27ccdd77d0f",
   "metadata": {},
   "outputs": [
    {
     "data": {
      "text/html": [
       "<div>\n",
       "<style scoped>\n",
       "    .dataframe tbody tr th:only-of-type {\n",
       "        vertical-align: middle;\n",
       "    }\n",
       "\n",
       "    .dataframe tbody tr th {\n",
       "        vertical-align: top;\n",
       "    }\n",
       "\n",
       "    .dataframe thead th {\n",
       "        text-align: right;\n",
       "    }\n",
       "</style>\n",
       "<table border=\"1\" class=\"dataframe\">\n",
       "  <thead>\n",
       "    <tr style=\"text-align: right;\">\n",
       "      <th></th>\n",
       "      <th>Month</th>\n",
       "      <th>Product_A</th>\n",
       "      <th>Product_B</th>\n",
       "      <th>Total_Sales</th>\n",
       "      <th>Product_A_Normalized</th>\n",
       "    </tr>\n",
       "  </thead>\n",
       "  <tbody>\n",
       "    <tr>\n",
       "      <th>0</th>\n",
       "      <td>Jan</td>\n",
       "      <td>150</td>\n",
       "      <td>300</td>\n",
       "      <td>450</td>\n",
       "      <td>0.428571</td>\n",
       "    </tr>\n",
       "    <tr>\n",
       "      <th>1</th>\n",
       "      <td>Feb</td>\n",
       "      <td>200</td>\n",
       "      <td>250</td>\n",
       "      <td>450</td>\n",
       "      <td>0.571429</td>\n",
       "    </tr>\n",
       "    <tr>\n",
       "      <th>2</th>\n",
       "      <td>Mar</td>\n",
       "      <td>250</td>\n",
       "      <td>200</td>\n",
       "      <td>450</td>\n",
       "      <td>0.714286</td>\n",
       "    </tr>\n",
       "    <tr>\n",
       "      <th>3</th>\n",
       "      <td>Apr</td>\n",
       "      <td>300</td>\n",
       "      <td>150</td>\n",
       "      <td>450</td>\n",
       "      <td>0.857143</td>\n",
       "    </tr>\n",
       "    <tr>\n",
       "      <th>4</th>\n",
       "      <td>May</td>\n",
       "      <td>350</td>\n",
       "      <td>100</td>\n",
       "      <td>450</td>\n",
       "      <td>1.000000</td>\n",
       "    </tr>\n",
       "  </tbody>\n",
       "</table>\n",
       "</div>"
      ],
      "text/plain": [
       "  Month  Product_A  Product_B  Total_Sales  Product_A_Normalized\n",
       "0   Jan        150        300          450              0.428571\n",
       "1   Feb        200        250          450              0.571429\n",
       "2   Mar        250        200          450              0.714286\n",
       "3   Apr        300        150          450              0.857143\n",
       "4   May        350        100          450              1.000000"
      ]
     },
     "execution_count": 32,
     "metadata": {},
     "output_type": "execute_result"
    }
   ],
   "source": [
    "filtered_sales_data"
   ]
  },
  {
   "cell_type": "code",
   "execution_count": null,
   "id": "6804a0d7-8aef-4d81-b04e-2682d985f696",
   "metadata": {},
   "outputs": [],
   "source": []
  }
 ],
 "metadata": {
  "kernelspec": {
   "display_name": "Python 3 (ipykernel)",
   "language": "python",
   "name": "python3"
  },
  "language_info": {
   "codemirror_mode": {
    "name": "ipython",
    "version": 3
   },
   "file_extension": ".py",
   "mimetype": "text/x-python",
   "name": "python",
   "nbconvert_exporter": "python",
   "pygments_lexer": "ipython3",
   "version": "3.12.4"
  }
 },
 "nbformat": 4,
 "nbformat_minor": 5
}
